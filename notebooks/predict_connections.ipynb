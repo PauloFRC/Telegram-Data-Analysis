{
 "cells": [
  {
   "metadata": {},
   "cell_type": "markdown",
   "source": "## Importa Grafo do Neo4j e converte para NetworkX",
   "id": "48b0e0a14c6b31e3"
  },
  {
   "metadata": {
    "ExecuteTime": {
     "end_time": "2025-10-20T03:36:29.932287Z",
     "start_time": "2025-10-20T03:36:29.690731Z"
    }
   },
   "cell_type": "code",
   "source": [
    "import networkx as nx\n",
    "from neo4j import GraphDatabase\n",
    "\n",
    "URI = \"bolt://localhost:7687\"\n",
    "\n",
    "password = \"12345678\" # CHANGE\n",
    "AUTH = (\"neo4j\", password)"
   ],
   "id": "4a53b91069d0c279",
   "outputs": [],
   "execution_count": 1
  },
  {
   "cell_type": "code",
   "id": "612cc342-c7f3-4792-9eea-f8f5d2847f49",
   "metadata": {
    "ExecuteTime": {
     "end_time": "2025-10-20T03:36:29.937500Z",
     "start_time": "2025-10-20T03:36:29.935303Z"
    }
   },
   "source": [
    "def get_graph_from_neo4j(driver):\n",
    "    G = nx.DiGraph()\n",
    "    with driver.session() as session:\n",
    "        nodes_result = session.run(\"\"\"\n",
    "            MATCH (n)\n",
    "            RETURN id(n) AS id, labels(n) AS labels, properties(n) AS properties\n",
    "        \"\"\")\n",
    "        for record in nodes_result:\n",
    "            G.add_node(record[\"id\"], labels=record[\"labels\"], **record[\"properties\"])\n",
    "\n",
    "        rels_result = session.run(\"\"\"\n",
    "            MATCH (n)-[r]->(m)\n",
    "            RETURN id(n) AS source, id(m) AS target, type(r) AS type\n",
    "        \"\"\")\n",
    "        for record in rels_result:\n",
    "            G.add_edge(record[\"source\"], record[\"target\"], type=record[\"type\"])\n",
    "    return G"
   ],
   "outputs": [],
   "execution_count": 2
  },
  {
   "metadata": {},
   "cell_type": "markdown",
   "source": "## Visualização de Métricas",
   "id": "d400de56974dd4c4"
  },
  {
   "cell_type": "code",
   "id": "2f26ecbf-5531-4c2f-8dee-f43f9a4a0b4a",
   "metadata": {
    "ExecuteTime": {
     "end_time": "2025-10-20T03:36:29.981606Z",
     "start_time": "2025-10-20T03:36:29.979940Z"
    }
   },
   "source": [
    "# Auxiliary function to get top 5 nodes for each metric\n",
    "def get_top_5(metric_dict):\n",
    "    sorted_items = sorted(metric_dict.items(), key=lambda x: x[1], reverse=True)\n",
    "    return sorted_items[:5]"
   ],
   "outputs": [],
   "execution_count": 3
  },
  {
   "cell_type": "code",
   "id": "d7efa741-a57c-44eb-82f1-add3a5b73ad3",
   "metadata": {
    "ExecuteTime": {
     "end_time": "2025-10-20T03:36:30.026925Z",
     "start_time": "2025-10-20T03:36:30.024235Z"
    }
   },
   "source": [
    "def get_users_relation_metrics(U, graph_name):\n",
    "    results = {\n",
    "        'graph_name': graph_name,\n",
    "        'num_nodes': U.number_of_nodes(),\n",
    "        'num_edges': U.number_of_edges(),\n",
    "        'density': None,\n",
    "        'diameter': None,\n",
    "        'giant_component_pct': None,\n",
    "        'metrics': {}\n",
    "    }\n",
    "\n",
    "    components = list(nx.connected_components(U))\n",
    "    giant_component_nodes = max(components, key=len)\n",
    "    G_giant = U.subgraph(giant_component_nodes)\n",
    "\n",
    "    results['giant_component_pct'] = (G_giant.number_of_nodes() / U.number_of_nodes()) * 100\n",
    "    results['density'] = nx.density(G_giant)\n",
    "    if nx.is_connected(G_giant):\n",
    "        results['diameter'] = nx.diameter(G_giant)\n",
    "    else:\n",
    "        results['diameter'] = None\n",
    "\n",
    "    # Degree Centrality: Connectivity of the user\n",
    "    degree_centrality = nx.degree_centrality(U)\n",
    "    results['metrics']['degree_centrality'] = get_top_5(degree_centrality)\n",
    "\n",
    "    # Clustering Coefficient: Bubbles/niches\n",
    "    clustering_coefficient = nx.clustering(U)\n",
    "    results['metrics']['clustering_coefficient'] = get_top_5(clustering_coefficient)\n",
    "\n",
    "    # Closeness Centrality: Proximity to other users\n",
    "    closeness_centrality = nx.closeness_centrality(G_giant)\n",
    "    results['metrics']['closeness_centrality'] = get_top_5(closeness_centrality)\n",
    "\n",
    "    # Betweenness Centrality: Users who may act as bridges\n",
    "    k_approx = min(200, U.number_of_nodes()) # Uses a sample of nodes for performance\n",
    "    betweenness_centrality = nx.betweenness_centrality(U, k=k_approx, normalized=True)\n",
    "    results['metrics']['betweenness_centrality'] = get_top_5(betweenness_centrality)\n",
    "\n",
    "    return results"
   ],
   "outputs": [],
   "execution_count": 4
  },
  {
   "metadata": {
    "ExecuteTime": {
     "end_time": "2025-10-20T03:36:30.069598Z",
     "start_time": "2025-10-20T03:36:30.066968Z"
    }
   },
   "cell_type": "code",
   "source": [
    "import pandas as pd\n",
    "\n",
    "def print_metrics_table(all_results):\n",
    "    summary_data = []\n",
    "    for result in all_results:\n",
    "        summary_data.append({\n",
    "            'Graph': result['graph_name'],\n",
    "            'Nodes': result['num_nodes'],\n",
    "            'Edges': result['num_edges'],\n",
    "            'Giant Component %': f\"{result['giant_component_pct']:.2f}%\" if result['giant_component_pct'] else \"N/A\",\n",
    "            'Density': f\"{result['density']:.6f}\" if result['density'] else \"N/A\",\n",
    "            'Diameter': result['diameter'] if result['diameter'] else \"N/A\"\n",
    "        })\n",
    "\n",
    "    summary_df = pd.DataFrame(summary_data)\n",
    "    print(summary_df.to_string(index=False))\n",
    "    print()\n",
    "\n",
    "    for result in all_results:\n",
    "        if result['num_nodes'] == 0:\n",
    "            print(f\"\\n{result['graph_name']}: Empty graph\")\n",
    "            continue\n",
    "\n",
    "        print(\"\\n\" + \"=\"*80)\n",
    "        print(f\"{result['graph_name'].upper()} - DETAILED METRICS\")\n",
    "        print(\"=\"*80)\n",
    "\n",
    "        for metric_name, top_5 in result['metrics'].items():\n",
    "            print(f\"\\n{metric_name.upper().replace('_', ' ')}:\")\n",
    "            print(\"-\" * 80)\n",
    "\n",
    "            metric_data = []\n",
    "            for rank, (user_id, value) in enumerate(top_5, 1):\n",
    "                metric_data.append({\n",
    "                    'Rank': rank,\n",
    "                    'User ID': user_id,\n",
    "                    'Value': f\"{value:.6f}\"\n",
    "                })\n",
    "\n",
    "            metric_df = pd.DataFrame(metric_data)\n",
    "            print(metric_df.to_string(index=False))\n",
    "            print()"
   ],
   "id": "ab187db7e01ebbcd",
   "outputs": [],
   "execution_count": 5
  },
  {
   "metadata": {
    "ExecuteTime": {
     "end_time": "2025-10-20T03:39:29.194213Z",
     "start_time": "2025-10-20T03:36:30.113027Z"
    }
   },
   "cell_type": "code",
   "source": [
    "import traceback\n",
    "\n",
    "G_shares = nx.Graph()\n",
    "G_viral = nx.Graph()\n",
    "G_misinfo = nx.Graph()\n",
    "\n",
    "try:\n",
    "    driver = GraphDatabase.driver(URI, auth=AUTH)\n",
    "\n",
    "    print(\"Connecting to Neo4j and building NetworkX graph...\")\n",
    "\n",
    "    networkx_graph = get_graph_from_neo4j(driver)\n",
    "\n",
    "    print(\"Graph imported into NetworkX\")\n",
    "\n",
    "    user_nodes = {n for n, d in networkx_graph.nodes(data=True) if 'User' in d.get('labels', [])}\n",
    "\n",
    "    # Add all user nodes to each graph\n",
    "    for u_node in user_nodes:\n",
    "        G_shares.add_node(u_node, **networkx_graph.nodes[u_node])\n",
    "        G_viral.add_node(u_node, **networkx_graph.nodes[u_node])\n",
    "        G_misinfo.add_node(u_node, **networkx_graph.nodes[u_node])\n",
    "\n",
    "    for u, v, data in networkx_graph.edges(data=True):\n",
    "        if u in user_nodes and v in user_nodes:\n",
    "            edge_type = data.get('type')\n",
    "            if edge_type == 'SHARES':\n",
    "                G_shares.add_edge(u, v, **data)\n",
    "            elif edge_type == 'VIRAL_SHARES':\n",
    "                G_viral.add_edge(u, v, **data)\n",
    "            elif edge_type == 'SHARES_MISINFORMATION':\n",
    "                G_misinfo.add_edge(u, v, **data)\n",
    "\n",
    "    results = [\n",
    "        get_users_relation_metrics(G_shares, \"Shares\"),\n",
    "        get_users_relation_metrics(G_viral, \"Viral Shares\"),\n",
    "        get_users_relation_metrics(G_misinfo, \"Misinformation Shares\")\n",
    "    ]\n",
    "\n",
    "    print()\n",
    "    print_metrics_table(results)\n",
    "\n",
    "except Exception:\n",
    "    traceback.print_exc()\n",
    "finally:\n",
    "    if 'driver' in locals() and driver:\n",
    "        driver.close()\n",
    "        print(\"Connection closed.\")"
   ],
   "id": "88fb676fbabf1779",
   "outputs": [
    {
     "name": "stdout",
     "output_type": "stream",
     "text": [
      "Connecting to Neo4j and building NetworkX graph...\n"
     ]
    },
    {
     "name": "stderr",
     "output_type": "stream",
     "text": [
      "Received notification from DBMS server: <GqlStatusObject gql_status='01N01', status_description='warn: feature deprecated with replacement. id is deprecated. It is replaced by elementId or consider using an application-generated id.', position=<SummaryInputPosition line=3, column=20, offset=42>, raw_classification='DEPRECATION', classification=<NotificationClassification.DEPRECATION: 'DEPRECATION'>, raw_severity='WARNING', severity=<NotificationSeverity.WARNING: 'WARNING'>, diagnostic_record={'_classification': 'DEPRECATION', '_severity': 'WARNING', '_position': {'offset': 42, 'line': 3, 'column': 20}, 'OPERATION': '', 'OPERATION_CODE': '0', 'CURRENT_SCHEMA': '/'}> for query: '\\n            MATCH (n)\\n            RETURN id(n) AS id, labels(n) AS labels, properties(n) AS properties\\n        '\n",
      "Received notification from DBMS server: <GqlStatusObject gql_status='01N01', status_description='warn: feature deprecated with replacement. id is deprecated. It is replaced by elementId or consider using an application-generated id.', position=<SummaryInputPosition line=3, column=20, offset=51>, raw_classification='DEPRECATION', classification=<NotificationClassification.DEPRECATION: 'DEPRECATION'>, raw_severity='WARNING', severity=<NotificationSeverity.WARNING: 'WARNING'>, diagnostic_record={'_classification': 'DEPRECATION', '_severity': 'WARNING', '_position': {'offset': 51, 'line': 3, 'column': 20}, 'OPERATION': '', 'OPERATION_CODE': '0', 'CURRENT_SCHEMA': '/'}> for query: '\\n            MATCH (n)-[r]->(m)\\n            RETURN id(n) AS source, id(m) AS target, type(r) AS type\\n        '\n",
      "Received notification from DBMS server: <GqlStatusObject gql_status='01N01', status_description='warn: feature deprecated with replacement. id is deprecated. It is replaced by elementId or consider using an application-generated id.', position=<SummaryInputPosition line=3, column=37, offset=68>, raw_classification='DEPRECATION', classification=<NotificationClassification.DEPRECATION: 'DEPRECATION'>, raw_severity='WARNING', severity=<NotificationSeverity.WARNING: 'WARNING'>, diagnostic_record={'_classification': 'DEPRECATION', '_severity': 'WARNING', '_position': {'offset': 68, 'line': 3, 'column': 37}, 'OPERATION': '', 'OPERATION_CODE': '0', 'CURRENT_SCHEMA': '/'}> for query: '\\n            MATCH (n)-[r]->(m)\\n            RETURN id(n) AS source, id(m) AS target, type(r) AS type\\n        '\n"
     ]
    },
    {
     "name": "stdout",
     "output_type": "stream",
     "text": [
      "Graph imported into NetworkX\n",
      "\n",
      "                Graph  Nodes  Edges Giant Component %  Density  Diameter\n",
      "               Shares  10366  72869            30.59% 0.014406        10\n",
      "         Viral Shares  10366     78             0.14% 0.857143         2\n",
      "Misinformation Shares  10366   7844             8.29% 0.021123         9\n",
      "\n",
      "\n",
      "================================================================================\n",
      "SHARES - DETAILED METRICS\n",
      "================================================================================\n",
      "\n",
      "DEGREE CENTRALITY:\n",
      "--------------------------------------------------------------------------------\n",
      " Rank  User ID    Value\n",
      "    1   198274 0.081910\n",
      "    2   198228 0.063676\n",
      "    3   198418 0.062132\n",
      "    4   198308 0.055572\n",
      "    5   198550 0.052581\n",
      "\n",
      "\n",
      "CLUSTERING COEFFICIENT:\n",
      "--------------------------------------------------------------------------------\n",
      " Rank  User ID    Value\n",
      "    1   198153 1.000000\n",
      "    2   198159 1.000000\n",
      "    3   198182 1.000000\n",
      "    4   198187 1.000000\n",
      "    5   198192 1.000000\n",
      "\n",
      "\n",
      "CLOSENESS CENTRALITY:\n",
      "--------------------------------------------------------------------------------\n",
      " Rank  User ID    Value\n",
      "    1   198274 0.535563\n",
      "    2   198418 0.514276\n",
      "    3   198228 0.513610\n",
      "    4   198308 0.508176\n",
      "    5   198550 0.500632\n",
      "\n",
      "\n",
      "BETWEENNESS CENTRALITY:\n",
      "--------------------------------------------------------------------------------\n",
      " Rank  User ID    Value\n",
      "    1   198418 0.005376\n",
      "    2   198316 0.005146\n",
      "    3   198274 0.004444\n",
      "    4   206381 0.003225\n",
      "    5   200810 0.002986\n",
      "\n",
      "\n",
      "================================================================================\n",
      "VIRAL SHARES - DETAILED METRICS\n",
      "================================================================================\n",
      "\n",
      "DEGREE CENTRALITY:\n",
      "--------------------------------------------------------------------------------\n",
      " Rank  User ID    Value\n",
      "    1   199429 0.001254\n",
      "    2   200807 0.001254\n",
      "    3   198190 0.001158\n",
      "    4   198373 0.001158\n",
      "    5   198450 0.001158\n",
      "\n",
      "\n",
      "CLUSTERING COEFFICIENT:\n",
      "--------------------------------------------------------------------------------\n",
      " Rank  User ID    Value\n",
      "    1   198230 1.000000\n",
      "    2   198380 1.000000\n",
      "    3   199309 1.000000\n",
      "    4   202774 1.000000\n",
      "    5   198190 0.969697\n",
      "\n",
      "\n",
      "CLOSENESS CENTRALITY:\n",
      "--------------------------------------------------------------------------------\n",
      " Rank  User ID    Value\n",
      "    1   199429 1.000000\n",
      "    2   200807 1.000000\n",
      "    3   198373 0.928571\n",
      "    4   200101 0.928571\n",
      "    5   198190 0.928571\n",
      "\n",
      "\n",
      "BETWEENNESS CENTRALITY:\n",
      "--------------------------------------------------------------------------------\n",
      " Rank  User ID    Value\n",
      "    1   199429 0.000000\n",
      "    2   200807 0.000000\n",
      "    3   198146 0.000000\n",
      "    4   198147 0.000000\n",
      "    5   198148 0.000000\n",
      "\n",
      "\n",
      "================================================================================\n",
      "MISINFORMATION SHARES - DETAILED METRICS\n",
      "================================================================================\n",
      "\n",
      "DEGREE CENTRALITY:\n",
      "--------------------------------------------------------------------------------\n",
      " Rank  User ID    Value\n",
      "    1   198220 0.016787\n",
      "    2   206381 0.015630\n",
      "    3   198228 0.015244\n",
      "    4   198526 0.011963\n",
      "    5   198184 0.010130\n",
      "\n",
      "\n",
      "CLUSTERING COEFFICIENT:\n",
      "--------------------------------------------------------------------------------\n",
      " Rank  User ID    Value\n",
      "    1   198147 1.000000\n",
      "    2   198149 1.000000\n",
      "    3   198167 1.000000\n",
      "    4   198211 1.000000\n",
      "    5   198213 1.000000\n",
      "\n",
      "\n",
      "CLOSENESS CENTRALITY:\n",
      "--------------------------------------------------------------------------------\n",
      " Rank  User ID    Value\n",
      "    1   198220 0.444099\n",
      "    2   198228 0.438202\n",
      "    3   206381 0.432678\n",
      "    4   198184 0.418945\n",
      "    5   198526 0.417925\n",
      "\n",
      "\n",
      "BETWEENNESS CENTRALITY:\n",
      "--------------------------------------------------------------------------------\n",
      " Rank  User ID    Value\n",
      "    1   198220 0.001104\n",
      "    2   198228 0.000897\n",
      "    3   199014 0.000436\n",
      "    4   198988 0.000429\n",
      "    5   200337 0.000421\n",
      "\n",
      "Connection closed.\n"
     ]
    }
   ],
   "execution_count": 6
  },
  {
   "cell_type": "code",
   "id": "f5b359c4-d63c-4f35-bc42-ba43969f9051",
   "metadata": {
    "ExecuteTime": {
     "end_time": "2025-10-20T03:39:30.199384Z",
     "start_time": "2025-10-20T03:39:29.306350Z"
    }
   },
   "source": [
    "def prepare_graph_for_gexf(graph):\n",
    "    for node, data in graph.nodes(data=True):\n",
    "        if 'labels' in data and isinstance(data['labels'], list):\n",
    "            data['labels'] = ','.join(data['labels'])\n",
    "\n",
    "    for u, v, data in graph.edges(data=True):\n",
    "        if 'type' in data:\n",
    "            data['label'] = data.pop('type')\n",
    "\n",
    "    return graph\n",
    "\n",
    "G_shares = prepare_graph_for_gexf(G_shares)\n",
    "G_viral = prepare_graph_for_gexf(G_viral)\n",
    "G_misinfo = prepare_graph_for_gexf(G_misinfo)\n",
    "\n",
    "nx.write_gexf(G_shares, \"../visualization/shares.gexf\")\n",
    "nx.write_gexf(G_viral, \"../visualization/viral_shares.gexf\")\n",
    "nx.write_gexf(G_misinfo, \"../visualization/misinfo_shares.gexf\")\n",
    "print(\"Export complete.\")"
   ],
   "outputs": [
    {
     "name": "stdout",
     "output_type": "stream",
     "text": [
      "Export complete.\n"
     ]
    }
   ],
   "execution_count": 7
  },
  {
   "metadata": {},
   "cell_type": "markdown",
   "source": "## Prevendo Conexões",
   "id": "5cb29e5d1c11173f"
  },
  {
   "cell_type": "code",
   "id": "18c232bf-fe0f-4bf9-a51c-43fe96842f6b",
   "metadata": {
    "ExecuteTime": {
     "end_time": "2025-10-20T03:39:30.517138Z",
     "start_time": "2025-10-20T03:39:30.286517Z"
    }
   },
   "source": [
    "from sklearn.metrics import roc_auc_score\n",
    "import random\n",
    "\n",
    "def evaluate_predictors_on_graph(U, network_name):\n",
    "    print(\"\\n\" + \"=\"*60)\n",
    "    print(f\"ACCURACY EVALUATION FOR: {network_name}\")\n",
    "    print(\"=\"*60)\n",
    "\n",
    "    original_edges = list(U.edges())\n",
    "    random.shuffle(original_edges)\n",
    "\n",
    "    test_size = int(len(original_edges) * 0.10)\n",
    "    test_edges = original_edges[:test_size]\n",
    "    train_edges = original_edges[test_size:]\n",
    "\n",
    "    G_train = nx.Graph()\n",
    "    G_train.add_nodes_from(U.nodes(data=True))\n",
    "    G_train.add_edges_from(train_edges)\n",
    "\n",
    "    print(f\"Original network: {U.number_of_nodes()} nodes, {U.number_of_edges()} edges.\")\n",
    "    print(f\"Training graph: {G_train.number_of_nodes()} nodes, {G_train.number_of_edges()} edges.\")\n",
    "    print(f\"Test set (hidden edges): {len(test_edges)} edges.\")\n",
    "\n",
    "\n",
    "    # Set of negative samples for AUC calculation\n",
    "    non_edges = list(nx.non_edges(G_train))\n",
    "    sampled_non_edges = random.sample(non_edges, len(test_edges))\n",
    "\n",
    "    evaluation_edges = test_edges + sampled_non_edges\n",
    "\n",
    "    scores = {'common_neighbors': [len(list(nx.common_neighbors(G_train, u, v)))\n",
    "                                  for u, v in evaluation_edges],\n",
    "              'jaccard': [s for u, v, s in nx.jaccard_coefficient(G_train, evaluation_edges)],\n",
    "              'adamic_adar': [s for u, v, s in nx.adamic_adar_index(G_train, evaluation_edges)],\n",
    "              'pref_attachment': [s for u, v, s in nx.preferential_attachment(G_train, evaluation_edges)]}\n",
    "\n",
    "    # Katz Proxy Calculation\n",
    "    katz_centrality = nx.katz_centrality(G_train, alpha=0.005, beta=1.0)\n",
    "    scores['katz_proxy'] = [(katz_centrality.get(u, 0) + katz_centrality.get(v, 0)) for u,v in evaluation_edges]\n",
    "\n",
    "    # Graph Distance\n",
    "    scores['shortest_path_distance'] = []\n",
    "    for u, v in evaluation_edges:\n",
    "        try:\n",
    "            distance = nx.shortest_path_length(G_train, u, v)\n",
    "            shortest_path_score = 1 / (1 + distance)\n",
    "        except nx.NetworkXNoPath:\n",
    "            shortest_path_score = 0\n",
    "        scores['shortest_path_distance'].append(shortest_path_score)\n",
    "\n",
    "    y_true = [1] * len(test_edges) + [0] * len(sampled_non_edges)\n",
    "\n",
    "    results = {}\n",
    "    for predictor_name, predicted_scores in scores.items():\n",
    "        # roc score: see if predictors can correctly guess that the hidden edge is more likely to have an edge than non edge\n",
    "        auc = roc_auc_score(y_true, predicted_scores)\n",
    "        results[predictor_name] = auc\n",
    "\n",
    "    print(\"\\nAUC Scores\")\n",
    "    results_df = pd.DataFrame.from_dict(results, orient='index', columns=['AUC'])\n",
    "    print(results_df.sort_values(by='AUC', ascending=False))"
   ],
   "outputs": [],
   "execution_count": 8
  },
  {
   "cell_type": "code",
   "id": "5397c8b0-da1a-4733-886d-75eedb1bdca2",
   "metadata": {
    "ExecuteTime": {
     "end_time": "2025-10-20T03:39:36.434115Z",
     "start_time": "2025-10-20T03:39:30.521208Z"
    }
   },
   "source": "evaluate_predictors_on_graph(G_shares, \"Shares\")",
   "outputs": [
    {
     "name": "stdout",
     "output_type": "stream",
     "text": [
      "\n",
      "============================================================\n",
      "ACCURACY EVALUATION FOR: Shares\n",
      "============================================================\n",
      "Original network: 10366 nodes, 72869 edges.\n",
      "Training graph: 10366 nodes, 65583 edges.\n",
      "Test set (hidden edges): 7286 edges.\n",
      "\n",
      "AUC Scores\n",
      "                             AUC\n",
      "adamic_adar             0.992346\n",
      "common_neighbors        0.992009\n",
      "jaccard                 0.991844\n",
      "pref_attachment         0.986747\n",
      "shortest_path_distance  0.979343\n",
      "katz_proxy              0.959491\n"
     ]
    }
   ],
   "execution_count": 9
  },
  {
   "cell_type": "code",
   "id": "0769144c-82de-4f81-83a9-da6d8da4a238",
   "metadata": {
    "ExecuteTime": {
     "end_time": "2025-10-20T03:39:40.583025Z",
     "start_time": "2025-10-20T03:39:36.481482Z"
    }
   },
   "source": "evaluate_predictors_on_graph(G_viral, \"Viral Shares\")\n",
   "outputs": [
    {
     "name": "stdout",
     "output_type": "stream",
     "text": [
      "\n",
      "============================================================\n",
      "ACCURACY EVALUATION FOR: Viral Shares\n",
      "============================================================\n",
      "Original network: 10366 nodes, 78 edges.\n",
      "Training graph: 10366 nodes, 71 edges.\n",
      "Test set (hidden edges): 7 edges.\n",
      "\n",
      "AUC Scores\n",
      "                        AUC\n",
      "common_neighbors        1.0\n",
      "jaccard                 1.0\n",
      "adamic_adar             1.0\n",
      "pref_attachment         1.0\n",
      "katz_proxy              1.0\n",
      "shortest_path_distance  1.0\n"
     ]
    }
   ],
   "execution_count": 10
  },
  {
   "cell_type": "code",
   "id": "775e0eaf-16c2-4e69-99c0-aa65d963ac8b",
   "metadata": {
    "ExecuteTime": {
     "end_time": "2025-10-20T03:39:44.745017Z",
     "start_time": "2025-10-20T03:39:40.630794Z"
    }
   },
   "source": "evaluate_predictors_on_graph(G_viral, \"Misinformation Shares\")",
   "outputs": [
    {
     "name": "stdout",
     "output_type": "stream",
     "text": [
      "\n",
      "============================================================\n",
      "ACCURACY EVALUATION FOR: Misinformation Shares\n",
      "============================================================\n",
      "Original network: 10366 nodes, 78 edges.\n",
      "Training graph: 10366 nodes, 71 edges.\n",
      "Test set (hidden edges): 7 edges.\n",
      "\n",
      "AUC Scores\n",
      "                        AUC\n",
      "common_neighbors        1.0\n",
      "jaccard                 1.0\n",
      "adamic_adar             1.0\n",
      "pref_attachment         1.0\n",
      "katz_proxy              1.0\n",
      "shortest_path_distance  1.0\n"
     ]
    }
   ],
   "execution_count": 11
  },
  {
   "metadata": {},
   "cell_type": "markdown",
   "source": "#### The results were too positive, which actually raises a red flag. However, in this case, we’re not looking at accuracy, since there’s no threshold defined, only comparing whether the models tend to predict that, between a hidden edge and a non-existent one, they are more likely to classify the hidden edge as connected.",
   "id": "53e52323884b09e5"
  },
  {
   "cell_type": "code",
   "id": "8194f225-8a8a-4b78-934d-9ee0b2c7bbfb",
   "metadata": {
    "ExecuteTime": {
     "end_time": "2025-10-20T03:39:44.925135Z",
     "start_time": "2025-10-20T03:39:44.923964Z"
    }
   },
   "source": [],
   "outputs": [],
   "execution_count": null
  },
  {
   "cell_type": "code",
   "id": "be1f183c-8dbc-43fa-bc71-4a29284374df",
   "metadata": {
    "ExecuteTime": {
     "end_time": "2025-10-20T03:39:44.969783Z",
     "start_time": "2025-10-20T03:39:44.968640Z"
    }
   },
   "source": [],
   "outputs": [],
   "execution_count": null
  }
 ],
 "metadata": {
  "kernelspec": {
   "display_name": "Python 3 (ipykernel)",
   "language": "python",
   "name": "python3"
  },
  "language_info": {
   "codemirror_mode": {
    "name": "ipython",
    "version": 3
   },
   "file_extension": ".py",
   "mimetype": "text/x-python",
   "name": "python",
   "nbconvert_exporter": "python",
   "pygments_lexer": "ipython3",
   "version": "3.14.0"
  }
 },
 "nbformat": 4,
 "nbformat_minor": 5
}
